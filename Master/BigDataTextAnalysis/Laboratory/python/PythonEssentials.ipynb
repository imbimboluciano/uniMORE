{
  "cells": [
    {
      "cell_type": "markdown",
      "metadata": {
        "id": "y6-h_moMhdDF"
      },
      "source": [
        "# Python Informal Introduction\n",
        "\n",
        "# Foundamentals\n",
        "1. Official Python tutorial (http://docs.python.org)\n",
        "2. Python is an interpreted language.\n",
        "    - The Python interpreter runs a program by executing one statement at a time.\n",
        "    - The source code is executed with a single command.\n",
        "    - Every time I run a code, it is first translated.\n",
        "    - Compilation errors are only visible when I execute the code.\n",
        "3. **Indentation** is important!\n",
        "4. Statements also do not need to be terminated by semicolons.\n",
        "\n",
        "### Python is an object-oriented programming language\n",
        "- Everything is an object\n",
        "  - An object is a collection of data, commonly known as **attributes**, and the object has certain predefined **functions** to update these data or exchange data with other objects.\n",
        "- Every number, string, data structure, function, class, module, ... exists in the Python interpreter in its own “box” which is referred to as Python object.\n",
        "- Each object has an associated type (for example, string or function) and internal data.\n",
        "-In practice this makes the language very flexible, as even functions can be treated just like any other object.\n",
        "\n"
      ]
    },
    {
      "cell_type": "code",
      "execution_count": 1,
      "metadata": {
        "id": "BLA6PisViGuF"
      },
      "outputs": [
        {
          "data": {
            "text/plain": [
              "int"
            ]
          },
          "execution_count": 1,
          "metadata": {},
          "output_type": "execute_result"
        }
      ],
      "source": [
        "type(5)"
      ]
    },
    {
      "cell_type": "code",
      "execution_count": 2,
      "metadata": {
        "id": "qsWYe4hGiGp0"
      },
      "outputs": [
        {
          "data": {
            "text/plain": [
              "str"
            ]
          },
          "execution_count": 2,
          "metadata": {},
          "output_type": "execute_result"
        }
      ],
      "source": [
        "type(\"Francesco\")"
      ]
    },
    {
      "cell_type": "markdown",
      "metadata": {
        "id": "cuBZ5l89h7Km"
      },
      "source": [
        "Comments:\n",
        "  - Any text preceded by the hash mark (#) is ignored by the Python interpreter\n",
        "  - _# This code will no be executed_"
      ]
    },
    {
      "cell_type": "code",
      "execution_count": null,
      "metadata": {
        "id": "gzCQIHMaw0AE"
      },
      "outputs": [],
      "source": [
        "# This is a comment, then it is ignored"
      ]
    },
    {
      "cell_type": "markdown",
      "metadata": {
        "id": "Pv8JpVrZjXuh"
      },
      "source": [
        "### Using Python as a Calculator"
      ]
    },
    {
      "cell_type": "code",
      "execution_count": null,
      "metadata": {
        "id": "wWmvlZFwjgn-"
      },
      "outputs": [],
      "source": [
        "5*6"
      ]
    },
    {
      "cell_type": "code",
      "execution_count": null,
      "metadata": {
        "id": "Eho0buO7jgj-"
      },
      "outputs": [],
      "source": [
        "50//3"
      ]
    },
    {
      "cell_type": "code",
      "execution_count": null,
      "metadata": {
        "id": "PTM2jBK6jggx"
      },
      "outputs": [],
      "source": [
        "50/3"
      ]
    },
    {
      "cell_type": "code",
      "execution_count": null,
      "metadata": {
        "id": "5ngaPUTMjqxd"
      },
      "outputs": [],
      "source": [
        "type(50//3)"
      ]
    },
    {
      "cell_type": "code",
      "execution_count": null,
      "metadata": {
        "id": "b2PKt2CD-JKS"
      },
      "outputs": [],
      "source": [
        "type(50/3)"
      ]
    },
    {
      "cell_type": "markdown",
      "metadata": {
        "id": "8Am8NwZRjqtx"
      },
      "source": [
        "Division (/) always returns a float. To do floor division and get an integer result (discarding any fractional result) you can use the // operator; to calculate the remainder you can use %.\n",
        "\n"
      ]
    },
    {
      "cell_type": "code",
      "execution_count": null,
      "metadata": {
        "id": "2GBLuN2soeRp"
      },
      "outputs": [],
      "source": [
        "# Statement\n",
        "a = 1 + 2\n",
        "a"
      ]
    },
    {
      "cell_type": "code",
      "execution_count": null,
      "metadata": {
        "id": "8H9MZTVcNnXF"
      },
      "outputs": [],
      "source": [
        "print(a)"
      ]
    },
    {
      "cell_type": "code",
      "execution_count": null,
      "metadata": {
        "id": "pTxHT8_OOMiz"
      },
      "outputs": [],
      "source": [
        "a=a+4"
      ]
    },
    {
      "cell_type": "code",
      "execution_count": null,
      "metadata": {
        "id": "WfVFNUW_OSJy"
      },
      "outputs": [],
      "source": [
        "a1 = a"
      ]
    },
    {
      "cell_type": "code",
      "execution_count": null,
      "metadata": {
        "id": "0s4MrICkOMaP"
      },
      "outputs": [],
      "source": [
        "print(a)"
      ]
    },
    {
      "cell_type": "code",
      "execution_count": null,
      "metadata": {
        "id": "8LONzveznhpJ"
      },
      "outputs": [],
      "source": [
        "type(a)"
      ]
    },
    {
      "cell_type": "markdown",
      "metadata": {
        "id": "r7XoEIDVn0pS"
      },
      "source": [
        "The last printed expression is assigned to the variable _.\n",
        "It is somewhat easier to continue calculations"
      ]
    },
    {
      "cell_type": "code",
      "execution_count": null,
      "metadata": {
        "id": "h7g6LXhVnrlE"
      },
      "outputs": [],
      "source": [
        "tax = 12.5 / 100\n",
        "price = 100.50\n",
        "price\n",
        "price * tax"
      ]
    },
    {
      "cell_type": "code",
      "execution_count": null,
      "metadata": {
        "id": "srrLhs9XA24x"
      },
      "outputs": [],
      "source": [
        "_"
      ]
    },
    {
      "cell_type": "code",
      "execution_count": null,
      "metadata": {
        "id": "OEKjuQPwoCxF"
      },
      "outputs": [],
      "source": [
        "price + _"
      ]
    },
    {
      "cell_type": "code",
      "execution_count": null,
      "metadata": {
        "id": "uDMDPBS7Our0"
      },
      "outputs": [],
      "source": [
        "_5"
      ]
    },
    {
      "cell_type": "code",
      "execution_count": null,
      "metadata": {
        "id": "6XzulqC6A-dY"
      },
      "outputs": [],
      "source": [
        "_"
      ]
    },
    {
      "cell_type": "code",
      "execution_count": null,
      "metadata": {
        "id": "pthmJ4zVGQCt"
      },
      "outputs": [],
      "source": [
        "a = 7; b=7"
      ]
    },
    {
      "cell_type": "code",
      "execution_count": null,
      "metadata": {
        "id": "cS_hpW-LPR3Q"
      },
      "outputs": [],
      "source": [
        "a=7\n",
        "b=7"
      ]
    },
    {
      "cell_type": "markdown",
      "metadata": {
        "id": "QI33zsHhin_-"
      },
      "source": [
        "### Function and object method calls\n",
        "\n",
        "- Functions are called using parentheses and passing zero or more arguments, optionally assigning the returned value to a variable.\n",
        "- The list of built-in Python functions is https://docs.python.org/3/library/functions.html"
      ]
    },
    {
      "cell_type": "code",
      "execution_count": null,
      "metadata": {
        "id": "SmL1dRs8ijsR"
      },
      "outputs": [],
      "source": [
        "# max returns the largest item in an iterable\n",
        "max(1, 2, 3)"
      ]
    },
    {
      "cell_type": "code",
      "execution_count": null,
      "metadata": {
        "id": "5Na-sd1HjWBN"
      },
      "outputs": [],
      "source": [
        "result = max(1,5)\n",
        "result"
      ]
    },
    {
      "cell_type": "code",
      "execution_count": null,
      "metadata": {
        "id": "6OcKqEfqgt3K"
      },
      "outputs": [],
      "source": [
        "# len returns the length of an object\n",
        "len([1, 2, 4])"
      ]
    },
    {
      "cell_type": "code",
      "execution_count": null,
      "metadata": {
        "id": "eCEn8kO6rxxb"
      },
      "outputs": [],
      "source": [
        "# print a message onto the screen\n",
        "print(\"Luigi\")"
      ]
    },
    {
      "cell_type": "markdown",
      "metadata": {
        "id": "CvtvoXtlkC_r"
      },
      "source": [
        "- In Python a function is defined using the _**def**_ keyword"
      ]
    },
    {
      "cell_type": "code",
      "execution_count": null,
      "metadata": {
        "id": "qM5GnMr6jixd"
      },
      "outputs": [],
      "source": [
        "def somma(a, b):\n",
        "  c = a + b\n",
        "  #print(\"Somma\")\n",
        "  return c"
      ]
    },
    {
      "cell_type": "code",
      "execution_count": null,
      "metadata": {
        "id": "-_KInaLWjjCD"
      },
      "outputs": [],
      "source": [
        "somma(8, 9)"
      ]
    },
    {
      "cell_type": "code",
      "execution_count": null,
      "metadata": {
        "id": "krkw1nqIjGGt"
      },
      "outputs": [],
      "source": [
        "a= somma(7, 6)"
      ]
    },
    {
      "cell_type": "code",
      "execution_count": null,
      "metadata": {
        "id": "bQ3E7SKRHmHv"
      },
      "outputs": [],
      "source": [
        "type(a)"
      ]
    },
    {
      "cell_type": "code",
      "execution_count": null,
      "metadata": {
        "id": "sDaxf1EQkb-U"
      },
      "outputs": [],
      "source": [
        "a= somma(1.3, 5)"
      ]
    },
    {
      "cell_type": "code",
      "execution_count": null,
      "metadata": {
        "id": "cdzm8d0KHt1j"
      },
      "outputs": [],
      "source": [
        "type(a)"
      ]
    },
    {
      "cell_type": "code",
      "execution_count": null,
      "metadata": {
        "id": "YWexyPg3H6ci"
      },
      "outputs": [],
      "source": [
        "somma(1,10.)"
      ]
    },
    {
      "cell_type": "code",
      "execution_count": null,
      "metadata": {
        "id": "XgJ1xZzgjKlt"
      },
      "outputs": [],
      "source": [
        "somma('ciao ', 15)"
      ]
    },
    {
      "cell_type": "code",
      "execution_count": null,
      "metadata": {
        "id": "sgPyhzX8ISg2"
      },
      "outputs": [],
      "source": [
        "somma('ciao ', str(15))"
      ]
    },
    {
      "cell_type": "code",
      "execution_count": null,
      "metadata": {
        "id": "3ROUYcbxm7cW"
      },
      "outputs": [],
      "source": [
        "def somma(a=5, b=7):\n",
        "    return a + b"
      ]
    },
    {
      "cell_type": "code",
      "execution_count": null,
      "metadata": {
        "id": "8m5fCwp1RT7r"
      },
      "outputs": [],
      "source": [
        "somma(12)"
      ]
    },
    {
      "cell_type": "code",
      "execution_count": null,
      "metadata": {
        "id": "SfBSpH3TJHyr"
      },
      "outputs": [],
      "source": [
        "somma(b=100, a=4)"
      ]
    },
    {
      "cell_type": "code",
      "execution_count": null,
      "metadata": {
        "id": "-xOWxAp0Mfhl"
      },
      "outputs": [],
      "source": [
        "a"
      ]
    },
    {
      "cell_type": "code",
      "execution_count": null,
      "metadata": {
        "id": "NWAuoKkCMVS1"
      },
      "outputs": [],
      "source": [
        "b"
      ]
    },
    {
      "cell_type": "code",
      "execution_count": null,
      "metadata": {
        "id": "VdGC61LcRdsY"
      },
      "outputs": [],
      "source": [
        "somma(4,b=100)"
      ]
    },
    {
      "cell_type": "code",
      "execution_count": null,
      "metadata": {
        "id": "R_MJF6V6n-5n"
      },
      "outputs": [],
      "source": [
        "somma()"
      ]
    },
    {
      "cell_type": "code",
      "execution_count": null,
      "metadata": {
        "id": "IkMHMWwEC5yy"
      },
      "outputs": [],
      "source": [
        "#Functions can return more values\n",
        "def sumComplete(a=5, b=7):\n",
        "    return a,b,a + b"
      ]
    },
    {
      "cell_type": "code",
      "execution_count": null,
      "metadata": {
        "id": "4UdzJNc7C56D"
      },
      "outputs": [],
      "source": [
        "sumComplete()"
      ]
    },
    {
      "cell_type": "code",
      "execution_count": null,
      "metadata": {
        "id": "z1FXSV6JC5-m"
      },
      "outputs": [],
      "source": [
        "(add1, add2, sum) = sumComplete(3,4)"
      ]
    },
    {
      "cell_type": "code",
      "execution_count": null,
      "metadata": {
        "id": "OlqIoDi6C6C4"
      },
      "outputs": [],
      "source": [
        "sum"
      ]
    },
    {
      "cell_type": "markdown",
      "metadata": {
        "id": "aSYQ0KW3tRkn"
      },
      "source": [
        "- Almost every object in Python has methods, that have access to the object’s internal contents.\n",
        "They can be called using the syntax:\n",
        "    - _obj.method(1, 2, 3)_\n",
        "- Functions can take both positional and keyword arguments:\n",
        "    - _result = f(a, b, c, d=5, e=\"fff\")_"
      ]
    },
    {
      "cell_type": "markdown",
      "metadata": {
        "id": "i_bcR9BZt2nZ"
      },
      "source": [
        "- Variables and pass-by-reference\n",
        "    - When assigning a variable in Python, you are creating a reference to an object.\n",
        "    - Assignment is also referred to as binding, as we are binding a name to an object.\n",
        "    - When you pass objects as arguments to a function, you are only passing references; no copying occurs"
      ]
    },
    {
      "cell_type": "code",
      "execution_count": null,
      "metadata": {
        "id": "Ntm-5Y59uFJ9"
      },
      "outputs": [],
      "source": [
        "a = [1, 2, 3]"
      ]
    },
    {
      "cell_type": "code",
      "execution_count": null,
      "metadata": {
        "id": "toQvFDQaudCm"
      },
      "outputs": [],
      "source": [
        "a"
      ]
    },
    {
      "cell_type": "code",
      "execution_count": null,
      "metadata": {
        "id": "8I4qB1sNuZcY"
      },
      "outputs": [],
      "source": [
        "b = a"
      ]
    },
    {
      "cell_type": "code",
      "execution_count": null,
      "metadata": {
        "id": "KDGC5xjpufzG"
      },
      "outputs": [],
      "source": [
        "b"
      ]
    },
    {
      "cell_type": "code",
      "execution_count": null,
      "metadata": {
        "id": "Wlnt5iSbuhhn"
      },
      "outputs": [],
      "source": [
        "a.append(4)"
      ]
    },
    {
      "cell_type": "code",
      "execution_count": null,
      "metadata": {
        "id": "MgS6SgI7utP6"
      },
      "outputs": [],
      "source": [
        "a"
      ]
    },
    {
      "cell_type": "code",
      "execution_count": null,
      "metadata": {
        "id": "eAEoYmFxuiVD"
      },
      "outputs": [],
      "source": [
        "b"
      ]
    },
    {
      "cell_type": "code",
      "execution_count": null,
      "metadata": {
        "id": "kIBvLI_IvvAF"
      },
      "outputs": [],
      "source": [
        "a = 5\n",
        "b = a"
      ]
    },
    {
      "cell_type": "code",
      "execution_count": null,
      "metadata": {
        "id": "fOsjbfHKtVHJ"
      },
      "outputs": [],
      "source": [
        "b"
      ]
    },
    {
      "cell_type": "code",
      "execution_count": null,
      "metadata": {
        "id": "Hr1pOHcH0PB1"
      },
      "outputs": [],
      "source": [
        "a = 6"
      ]
    },
    {
      "cell_type": "code",
      "execution_count": null,
      "metadata": {
        "id": "iGaFHbxg0O2H"
      },
      "outputs": [],
      "source": [
        "b"
      ]
    },
    {
      "cell_type": "code",
      "execution_count": null,
      "metadata": {
        "id": "6cMZdXrWFts8"
      },
      "outputs": [],
      "source": [
        "type(b)"
      ]
    },
    {
      "cell_type": "markdown",
      "metadata": {
        "id": "EasSMpZoujxn"
      },
      "source": [
        "### Dynamic references, strong types\n",
        "- Object references in Python have no type associated with them\n",
        "- The object to which a reference is bound at a given time does have a type\n",
        "- Any given reference may be bound to objects of different types during the execution of a program"
      ]
    },
    {
      "cell_type": "code",
      "execution_count": null,
      "metadata": {
        "id": "1sQnFCs-vuub"
      },
      "outputs": [],
      "source": [
        "a = 7\n",
        "f = \"Francesco\"\n",
        "g= f"
      ]
    },
    {
      "cell_type": "code",
      "execution_count": null,
      "metadata": {
        "id": "76L3R01fvue-"
      },
      "outputs": [],
      "source": [
        "type(a)"
      ]
    },
    {
      "cell_type": "code",
      "execution_count": null,
      "metadata": {
        "id": "aLYpNvifvuQr"
      },
      "outputs": [],
      "source": [
        "type(f)"
      ]
    },
    {
      "cell_type": "code",
      "execution_count": null,
      "metadata": {
        "id": "pMQ-XuzewEMV"
      },
      "outputs": [],
      "source": [
        "type(g)"
      ]
    },
    {
      "cell_type": "markdown",
      "metadata": {
        "id": "1Kz9K9Y51A12"
      },
      "source": [
        "- Python is considered a strongly-typed language:\n",
        "    - every object has a specific type\n",
        "    - implicit conversions occur only in certain obvious circumstances"
      ]
    },
    {
      "cell_type": "code",
      "execution_count": null,
      "metadata": {
        "id": "hfPBG0AM1JoA"
      },
      "outputs": [],
      "source": [
        "a = 4\n",
        "b = 2"
      ]
    },
    {
      "cell_type": "code",
      "execution_count": null,
      "metadata": {
        "id": "8DiE1KgE1u98"
      },
      "outputs": [],
      "source": [
        "type(a / b) # Note in Python 2.X this is integer"
      ]
    },
    {
      "cell_type": "code",
      "execution_count": null,
      "metadata": {
        "id": "x1XJsPQC1wc6"
      },
      "outputs": [],
      "source": [
        "a / b"
      ]
    },
    {
      "cell_type": "code",
      "execution_count": null,
      "metadata": {
        "id": "CHRwlLDoti81"
      },
      "outputs": [],
      "source": [
        "int(a / b)"
      ]
    },
    {
      "cell_type": "code",
      "execution_count": null,
      "metadata": {
        "id": "SQfdumJN1yJw"
      },
      "outputs": [],
      "source": [
        "type(a)"
      ]
    },
    {
      "cell_type": "code",
      "execution_count": null,
      "metadata": {
        "id": "pqWo_AQO1zwd"
      },
      "outputs": [],
      "source": [
        "isinstance(a, int)"
      ]
    },
    {
      "cell_type": "markdown",
      "metadata": {
        "id": "Rk06A7kc10L9"
      },
      "source": [
        "### Operators and comparison\n",
        "- +,  -, \\*,  /,  \\*\\*, ...\n",
        "- The operators <, >, ==, >=, <=, and != compare the values of two objects"
      ]
    },
    {
      "cell_type": "code",
      "execution_count": null,
      "metadata": {
        "id": "7TADyoK22U_8"
      },
      "outputs": [],
      "source": [
        "# Addition\n",
        "21 + 11.4"
      ]
    },
    {
      "cell_type": "code",
      "execution_count": null,
      "metadata": {
        "id": "mjZ8Ly_HqkK_"
      },
      "outputs": [],
      "source": [
        "# Difference\n",
        "9 - 11"
      ]
    },
    {
      "cell_type": "code",
      "execution_count": null,
      "metadata": {
        "id": "J_0k1lzEqnRH"
      },
      "outputs": [],
      "source": [
        "# Multiplication\n",
        "2 * 3"
      ]
    },
    {
      "cell_type": "code",
      "execution_count": null,
      "metadata": {
        "id": "UYrf__z8quJY"
      },
      "outputs": [],
      "source": [
        "# Division\n",
        "9 / 3"
      ]
    },
    {
      "cell_type": "code",
      "execution_count": null,
      "metadata": {
        "id": "DAQcOIxcqwtd"
      },
      "outputs": [],
      "source": [
        "# Power\n",
        "2 ** 3"
      ]
    },
    {
      "cell_type": "code",
      "execution_count": null,
      "metadata": {
        "id": "iCWuBoud2iYq"
      },
      "outputs": [],
      "source": [
        "5 != 4"
      ]
    },
    {
      "cell_type": "code",
      "execution_count": null,
      "metadata": {
        "id": "6tcVYB3nq1vl"
      },
      "outputs": [],
      "source": [
        "5 == 4"
      ]
    },
    {
      "cell_type": "code",
      "execution_count": null,
      "metadata": {
        "id": "Qvi05Z2ZrPbI"
      },
      "outputs": [],
      "source": [
        "5 > 4"
      ]
    },
    {
      "cell_type": "code",
      "execution_count": null,
      "metadata": {
        "id": "2razXH_PrRbY"
      },
      "outputs": [],
      "source": [
        "5 < 4"
      ]
    },
    {
      "cell_type": "code",
      "execution_count": null,
      "metadata": {
        "id": "fzqIQEoVrRSp"
      },
      "outputs": [],
      "source": [
        "4 >= 4"
      ]
    },
    {
      "cell_type": "code",
      "execution_count": null,
      "metadata": {
        "id": "l4C54Kdqq9b0"
      },
      "outputs": [],
      "source": [
        "19 / 3"
      ]
    },
    {
      "cell_type": "code",
      "execution_count": null,
      "metadata": {
        "id": "ijoBhu9huUS4"
      },
      "outputs": [],
      "source": [
        "int(19 / 3)"
      ]
    },
    {
      "cell_type": "code",
      "execution_count": null,
      "metadata": {
        "id": "etpovqpoq_Xh"
      },
      "outputs": [],
      "source": [
        "19 // 3"
      ]
    },
    {
      "cell_type": "code",
      "execution_count": null,
      "metadata": {
        "id": "f52c4CFu2k2d"
      },
      "outputs": [],
      "source": [
        "19 % 3"
      ]
    },
    {
      "cell_type": "markdown",
      "metadata": {
        "id": "U3YrEuHT2mwy"
      },
      "source": [
        "### Imports\n",
        "- In Python a module is simply a .py file containing function and variable definitions along with such things imported from other .py files."
      ]
    },
    {
      "cell_type": "code",
      "execution_count": null,
      "metadata": {
        "id": "K8tcx_f-u6at"
      },
      "outputs": [],
      "source": [
        "import numpy"
      ]
    },
    {
      "cell_type": "code",
      "execution_count": null,
      "metadata": {
        "id": "jJL4Dv0qvOJM"
      },
      "outputs": [],
      "source": [
        "numpy.array([1,2,3])"
      ]
    },
    {
      "cell_type": "code",
      "execution_count": null,
      "metadata": {
        "id": "4YajOuMbLJN9"
      },
      "outputs": [],
      "source": [
        "type(numpy.array([1,2,3]))"
      ]
    },
    {
      "cell_type": "code",
      "execution_count": null,
      "metadata": {
        "id": "tP7bqPBd2r1K"
      },
      "outputs": [],
      "source": [
        "import numpy as np\n",
        "\n",
        "array = np.array([[1, 2, 3], [4, 5, 6]])\n",
        "array"
      ]
    },
    {
      "cell_type": "code",
      "execution_count": null,
      "metadata": {
        "id": "DVdqzJdC2vPD"
      },
      "outputs": [],
      "source": [
        "from numpy import array\n",
        "array([[1, 2, 3], [4, 5, 6]])"
      ]
    },
    {
      "cell_type": "markdown",
      "metadata": {
        "id": "0BuWo5cv2xGZ"
      },
      "source": [
        "## Mutable and immutable objects\n",
        "- Most objects in Python are mutable: the object or values that they contain can be modified\n",
        "  - lists, dicts, NumPy arrays, or most user-defined types (classes).\n",
        "- Other object cannot be modified after their creation\n",
        "  - strings and tuples."
      ]
    },
    {
      "cell_type": "code",
      "execution_count": null,
      "metadata": {
        "id": "QZ-m1pgyzcBM"
      },
      "outputs": [],
      "source": [
        "a = 7"
      ]
    },
    {
      "cell_type": "code",
      "execution_count": null,
      "metadata": {
        "id": "Z-cIL-d20Alt"
      },
      "outputs": [],
      "source": [
        "a = a + 1\n",
        "a"
      ]
    },
    {
      "cell_type": "code",
      "execution_count": null,
      "metadata": {
        "id": "-Pnos8qQ21LQ"
      },
      "outputs": [],
      "source": [
        "esempio_Lista = [1, \"Ciao\", 4]"
      ]
    },
    {
      "cell_type": "code",
      "execution_count": null,
      "metadata": {
        "id": "f4c3gYYq5_FA"
      },
      "outputs": [],
      "source": [
        "type(esempio_Lista)"
      ]
    },
    {
      "cell_type": "code",
      "execution_count": null,
      "metadata": {
        "id": "U9fA0QyK56HZ"
      },
      "outputs": [],
      "source": [
        "esempio_Lista"
      ]
    },
    {
      "cell_type": "code",
      "execution_count": null,
      "metadata": {
        "id": "jtJRlPjq58dp"
      },
      "outputs": [],
      "source": [
        "esempio_Lista[2]"
      ]
    },
    {
      "cell_type": "code",
      "execution_count": null,
      "metadata": {
        "id": "RO8X0oyH59wX"
      },
      "outputs": [],
      "source": [
        "esempio_Lista[2] = 48"
      ]
    },
    {
      "cell_type": "code",
      "execution_count": null,
      "metadata": {
        "id": "MjoGdY-D0dNK"
      },
      "outputs": [],
      "source": [
        "esempio_Lista"
      ]
    },
    {
      "cell_type": "code",
      "execution_count": null,
      "metadata": {
        "id": "oA7dt_U_6BiJ"
      },
      "outputs": [],
      "source": [
        "esempio_Stringa = \"Francesco\""
      ]
    },
    {
      "cell_type": "code",
      "execution_count": null,
      "metadata": {
        "id": "uL8I_Q1G6Crz"
      },
      "outputs": [],
      "source": [
        "esempio_Stringa[8]"
      ]
    },
    {
      "cell_type": "code",
      "execution_count": null,
      "metadata": {
        "id": "mDJEYnoY6D73"
      },
      "outputs": [],
      "source": [
        "esempio_Stringa[8] = 'a'"
      ]
    },
    {
      "cell_type": "code",
      "execution_count": null,
      "metadata": {
        "id": "n-CQ9m826GDE"
      },
      "outputs": [],
      "source": [
        "esempio_Stringa = 'Francesca'"
      ]
    },
    {
      "cell_type": "code",
      "execution_count": null,
      "metadata": {
        "id": "7JkO6v__a5Vz"
      },
      "outputs": [],
      "source": [
        "esempio_Stringa"
      ]
    },
    {
      "cell_type": "markdown",
      "metadata": {
        "id": "BEVCVTEq6Gvp"
      },
      "source": [
        "## Scalar Types\n",
        "\n"
      ]
    },
    {
      "cell_type": "markdown",
      "metadata": {
        "id": "6dtVAA_qC1K6"
      },
      "source": [
        "### Numeric\n",
        "\n",
        "- The primary Python types for numbers are int and float\n",
        "   - In Python3, value of an integer is not restricted by the number of bits and can expand to the limit of the available memory.\n",
        "\n",
        "- Floating point numbers are represented with the float type.\n",
        "   - Under the hood each one is a double-precision (64 bits) value.\n",
        "   - They can also be expressed using scientific notation.\n"
      ]
    },
    {
      "cell_type": "code",
      "execution_count": null,
      "metadata": {
        "id": "EuTlZ-_06TTO"
      },
      "outputs": [],
      "source": [
        "intValue = 9223\n",
        "intValue"
      ]
    },
    {
      "cell_type": "code",
      "execution_count": null,
      "metadata": {
        "id": "697jdbR_k5WY"
      },
      "outputs": [],
      "source": [
        "newInt = intValue**intValue"
      ]
    },
    {
      "cell_type": "code",
      "execution_count": null,
      "metadata": {
        "id": "jpT-8EZdsaFR"
      },
      "outputs": [],
      "source": [
        "print(intValue**intValue)"
      ]
    },
    {
      "cell_type": "markdown",
      "metadata": {
        "id": "caQd4sj-nXz6"
      },
      "source": [
        "CPython has a global limit for converting between int and str to mitigate denial of service attacks. This limit only applies to decimal or other non-power-of-two number bases. Hexadecimal, octal, and binary conversions are unlimited. The limit can be configured.\n",
        "\n",
        "(Source: https://docs.python.org/3/library/stdtypes.html#int-max-str-digits)"
      ]
    },
    {
      "cell_type": "code",
      "execution_count": null,
      "metadata": {
        "id": "i3OWeHnfdUln"
      },
      "outputs": [],
      "source": [
        "import sys\n",
        "sys.set_int_max_str_digits(0)"
      ]
    },
    {
      "cell_type": "code",
      "execution_count": null,
      "metadata": {
        "id": "eEu1STPZdXvq"
      },
      "outputs": [],
      "source": [
        "print(intValue**intValue)"
      ]
    },
    {
      "cell_type": "code",
      "execution_count": null,
      "metadata": {
        "id": "jQ2TYaD_6qW1"
      },
      "outputs": [],
      "source": [
        "type(intValue)"
      ]
    },
    {
      "cell_type": "code",
      "execution_count": null,
      "metadata": {
        "id": "cTrZTBl26uN9"
      },
      "outputs": [],
      "source": [
        "intValue = intValue +2"
      ]
    },
    {
      "cell_type": "code",
      "execution_count": null,
      "metadata": {
        "id": "MDWSSrdswutH"
      },
      "outputs": [],
      "source": [
        "intValue"
      ]
    },
    {
      "cell_type": "code",
      "execution_count": null,
      "metadata": {
        "id": "Yxoh-fU-6wzK"
      },
      "outputs": [],
      "source": [
        "flVaue = 4.765"
      ]
    },
    {
      "cell_type": "code",
      "execution_count": null,
      "metadata": {
        "id": "InLFkyQ_61M8"
      },
      "outputs": [],
      "source": [
        "flValueScient = 4.123e22"
      ]
    },
    {
      "cell_type": "code",
      "execution_count": null,
      "metadata": {
        "id": "3NCIjeUk61pQ"
      },
      "outputs": [],
      "source": [
        "flValueScient"
      ]
    },
    {
      "cell_type": "code",
      "execution_count": null,
      "metadata": {
        "id": "jkOB_OmgxK6l"
      },
      "outputs": [],
      "source": [
        "flValueScient + 1"
      ]
    },
    {
      "cell_type": "code",
      "execution_count": null,
      "metadata": {
        "id": "3DuzDYbOxAIH"
      },
      "outputs": [],
      "source": [
        "4.123 * 10**22"
      ]
    },
    {
      "cell_type": "code",
      "execution_count": null,
      "metadata": {
        "id": "cOWgWthP3wxU"
      },
      "outputs": [],
      "source": [
        "type(flValueScient)"
      ]
    },
    {
      "cell_type": "code",
      "execution_count": null,
      "metadata": {
        "id": "wTb5frx83w-p"
      },
      "outputs": [],
      "source": [
        "#overflow\n",
        "flValueScient**flValueScient"
      ]
    },
    {
      "cell_type": "markdown",
      "metadata": {
        "id": "lB4Vzg-4629_"
      },
      "source": [
        "### Strings\n",
        "- You can write string using either single quotes ' or double quotes \"\n",
        "- For multiline strings with line breaks, you can use triple quotes, either ''' or \"\"\"\n",
        "- Python strings are immutable; you cannot modify a string without creating a new string"
      ]
    },
    {
      "cell_type": "code",
      "execution_count": null,
      "metadata": {
        "id": "HwO6DBxMxasj"
      },
      "outputs": [],
      "source": [
        "string1 = 'Questa è una stringa'\n",
        "string1"
      ]
    },
    {
      "cell_type": "code",
      "execution_count": null,
      "metadata": {
        "id": "khjtb33axeIR"
      },
      "outputs": [],
      "source": [
        "string2 = \"Questa è una stringa\"\n",
        "string2"
      ]
    },
    {
      "cell_type": "code",
      "execution_count": null,
      "metadata": {
        "id": "5btcp800xroC"
      },
      "outputs": [],
      "source": [
        "string1 == string2"
      ]
    },
    {
      "cell_type": "code",
      "execution_count": null,
      "metadata": {
        "id": "tDpTaYwU7D5t"
      },
      "outputs": [],
      "source": [
        "stringLunga = '''\n",
        "Stringa\n",
        "su più\n",
        "righe'''"
      ]
    },
    {
      "cell_type": "code",
      "execution_count": null,
      "metadata": {
        "id": "VGuqZ6Abo-a6"
      },
      "outputs": [],
      "source": [
        "stringLunga"
      ]
    },
    {
      "cell_type": "code",
      "execution_count": null,
      "metadata": {
        "id": "Uh84fLvq7IiG"
      },
      "outputs": [],
      "source": [
        "print(stringLunga)"
      ]
    },
    {
      "cell_type": "code",
      "execution_count": null,
      "metadata": {
        "id": "LrNxcOcqyCuY"
      },
      "outputs": [],
      "source": [
        "type(string1)"
      ]
    },
    {
      "cell_type": "code",
      "execution_count": null,
      "metadata": {
        "id": "Ho-qIu7pyF2b"
      },
      "outputs": [],
      "source": [
        "s = 'c'\n",
        "type(s)"
      ]
    },
    {
      "cell_type": "code",
      "execution_count": null,
      "metadata": {
        "id": "W3bTtd6oyMkQ"
      },
      "outputs": [],
      "source": [
        "len(string1)"
      ]
    },
    {
      "cell_type": "markdown",
      "metadata": {
        "id": "b2riM52L7K1o"
      },
      "source": [
        "- Many Python objects can be converted to a string using the str function    \n",
        "- Adding two strings together concatenates them and produces a new string"
      ]
    },
    {
      "cell_type": "code",
      "execution_count": null,
      "metadata": {
        "id": "0WcWfs1N7RCL"
      },
      "outputs": [],
      "source": [
        "a = 42"
      ]
    },
    {
      "cell_type": "code",
      "execution_count": null,
      "metadata": {
        "id": "BR6_L0tlyboU"
      },
      "outputs": [],
      "source": [
        "type(a)"
      ]
    },
    {
      "cell_type": "code",
      "execution_count": null,
      "metadata": {
        "id": "igfVDEkIyV5i"
      },
      "outputs": [],
      "source": [
        "str(42)"
      ]
    },
    {
      "cell_type": "code",
      "execution_count": null,
      "metadata": {
        "id": "DamF-1ummyHl"
      },
      "outputs": [],
      "source": [
        "print(a)"
      ]
    },
    {
      "cell_type": "code",
      "execution_count": null,
      "metadata": {
        "id": "OI_YktMz7Vrb"
      },
      "outputs": [],
      "source": [
        "print(str(a))"
      ]
    },
    {
      "cell_type": "code",
      "execution_count": null,
      "metadata": {
        "id": "y7OB7VbZ7Xsl"
      },
      "outputs": [],
      "source": [
        "str(a)"
      ]
    },
    {
      "cell_type": "code",
      "execution_count": null,
      "metadata": {
        "id": "tKzvTcBUyjdN"
      },
      "outputs": [],
      "source": [
        "42 + 42"
      ]
    },
    {
      "cell_type": "code",
      "execution_count": null,
      "metadata": {
        "id": "XXjtu9-zyhC5"
      },
      "outputs": [],
      "source": [
        "'ciao' + 'ciao'"
      ]
    },
    {
      "cell_type": "code",
      "execution_count": null,
      "metadata": {
        "id": "7lqb1vxn7ZKp"
      },
      "outputs": [],
      "source": [
        "b = 'Il risultato è '"
      ]
    },
    {
      "cell_type": "code",
      "execution_count": null,
      "metadata": {
        "id": "cs2SEUv67arL"
      },
      "outputs": [],
      "source": [
        "b + a"
      ]
    },
    {
      "cell_type": "code",
      "execution_count": null,
      "metadata": {
        "id": "GQlLgEuE7dcB"
      },
      "outputs": [],
      "source": [
        "b + str(a)"
      ]
    },
    {
      "cell_type": "code",
      "execution_count": null,
      "metadata": {
        "id": "mN_SqiFGywsS"
      },
      "outputs": [],
      "source": [
        "int(7.12)"
      ]
    },
    {
      "cell_type": "code",
      "execution_count": null,
      "metadata": {
        "id": "aSnw3aqsyzne"
      },
      "outputs": [],
      "source": [
        "int('ciao')"
      ]
    },
    {
      "cell_type": "code",
      "execution_count": null,
      "metadata": {
        "id": "97L_T_kSy2Wb"
      },
      "outputs": [],
      "source": [
        "int('10')"
      ]
    },
    {
      "cell_type": "markdown",
      "metadata": {
        "id": "-B21pxCy7fP4"
      },
      "source": [
        "### Booleans\n",
        "- The two boolean values are written as True and False.\n",
        "- Boolean values are combined with the and and or keywords"
      ]
    },
    {
      "cell_type": "code",
      "execution_count": null,
      "metadata": {
        "id": "D-KxEKmlzKil"
      },
      "outputs": [],
      "source": [
        "b = True\n",
        "b"
      ]
    },
    {
      "cell_type": "code",
      "execution_count": null,
      "metadata": {
        "id": "YDnsXC5bzNjG"
      },
      "outputs": [],
      "source": [
        "type(b)"
      ]
    },
    {
      "cell_type": "code",
      "execution_count": null,
      "metadata": {
        "id": "bC2Svqv77hqO"
      },
      "outputs": [],
      "source": [
        "True or True"
      ]
    },
    {
      "cell_type": "code",
      "execution_count": null,
      "metadata": {
        "id": "jHWnQlyc7iux"
      },
      "outputs": [],
      "source": [
        "True or False"
      ]
    },
    {
      "cell_type": "markdown",
      "metadata": {
        "id": "SPmeqsF97jH2"
      },
      "source": [
        "### None\n",
        "- None is the Python null value type\n",
        "- If a function does not explicitly return a value, it implicitly returns None\n"
      ]
    },
    {
      "cell_type": "code",
      "execution_count": null,
      "metadata": {
        "id": "oTSw45k8A-KA"
      },
      "outputs": [],
      "source": [
        "k = None"
      ]
    },
    {
      "cell_type": "code",
      "execution_count": null,
      "metadata": {
        "id": "8_FL9Dp6BBna"
      },
      "outputs": [],
      "source": [
        "k is None"
      ]
    },
    {
      "cell_type": "code",
      "execution_count": null,
      "metadata": {
        "id": "6B0sCKkS4Iil"
      },
      "outputs": [],
      "source": [
        "not k is None"
      ]
    },
    {
      "cell_type": "code",
      "execution_count": null,
      "metadata": {
        "id": "F1p7Wp6hv0qm"
      },
      "outputs": [],
      "source": [
        "type(k)"
      ]
    },
    {
      "cell_type": "code",
      "execution_count": null,
      "metadata": {
        "id": "pnnRw4G55jtN"
      },
      "outputs": [],
      "source": [
        "def prova(a=1,b=1):\n",
        "  c=a+b"
      ]
    },
    {
      "cell_type": "code",
      "execution_count": null,
      "metadata": {
        "id": "VU7sBK6p5jfx"
      },
      "outputs": [],
      "source": [
        "type(prova)"
      ]
    },
    {
      "cell_type": "code",
      "execution_count": null,
      "metadata": {
        "id": "wLpHvoKB5w6g"
      },
      "outputs": [],
      "source": [
        "result = prova()"
      ]
    },
    {
      "cell_type": "code",
      "execution_count": null,
      "metadata": {
        "id": "NuLfXDDG50fm"
      },
      "outputs": [],
      "source": [
        "type(result)"
      ]
    },
    {
      "cell_type": "markdown",
      "metadata": {
        "id": "aQdat1FlBEWW"
      },
      "source": [
        "### Dates and times\n",
        "- The built-in Python datetime module provides datetime, date, and time types.\n"
      ]
    },
    {
      "cell_type": "code",
      "execution_count": null,
      "metadata": {
        "id": "twHylj_eBG3K"
      },
      "outputs": [],
      "source": [
        "import datetime\n",
        "dt = datetime.datetime(2021, 6, 19)"
      ]
    },
    {
      "cell_type": "code",
      "execution_count": null,
      "metadata": {
        "id": "Hi6TS5QK4tLA"
      },
      "outputs": [],
      "source": [
        "type(dt)"
      ]
    },
    {
      "cell_type": "code",
      "execution_count": null,
      "metadata": {
        "id": "9rldLYgVBO4h"
      },
      "outputs": [],
      "source": [
        "dt.date()"
      ]
    },
    {
      "cell_type": "code",
      "execution_count": null,
      "metadata": {
        "id": "J5QmnFFxBQjk"
      },
      "outputs": [],
      "source": [
        "dt.time()"
      ]
    },
    {
      "cell_type": "code",
      "execution_count": null,
      "metadata": {
        "id": "5MGOf-Uy4103"
      },
      "outputs": [],
      "source": [
        "dt.hour"
      ]
    },
    {
      "cell_type": "code",
      "execution_count": null,
      "metadata": {
        "id": "AT6QVFFYBXKx"
      },
      "outputs": [],
      "source": [
        "dt = datetime.datetime(2019, 7, 1, 23, 24)"
      ]
    },
    {
      "cell_type": "code",
      "execution_count": null,
      "metadata": {
        "id": "978ghVcTBY0s"
      },
      "outputs": [],
      "source": [
        "dt.time()"
      ]
    },
    {
      "cell_type": "code",
      "execution_count": null,
      "metadata": {
        "id": "kpw0OW6xv95z"
      },
      "outputs": [],
      "source": [
        "dt.hour"
      ]
    },
    {
      "cell_type": "code",
      "execution_count": null,
      "metadata": {
        "id": "RoJ5Cspe5Asq"
      },
      "outputs": [],
      "source": [
        "dt.minute"
      ]
    },
    {
      "cell_type": "code",
      "execution_count": null,
      "metadata": {
        "id": "A8zE2dDPBZvt"
      },
      "outputs": [],
      "source": [
        "today = datetime.date.today()"
      ]
    },
    {
      "cell_type": "code",
      "execution_count": null,
      "metadata": {
        "id": "LyVBXJKYBayd"
      },
      "outputs": [],
      "source": [
        "print(today)"
      ]
    },
    {
      "cell_type": "code",
      "execution_count": null,
      "metadata": {
        "id": "JVBkh6z85O5V"
      },
      "outputs": [],
      "source": [
        "type(today)"
      ]
    },
    {
      "cell_type": "code",
      "execution_count": null,
      "metadata": {
        "id": "ATMddGqev8f9"
      },
      "outputs": [],
      "source": [
        "datetime.datetime.now()"
      ]
    },
    {
      "cell_type": "markdown",
      "metadata": {
        "id": "iG-37yjDBbW0"
      },
      "source": [
        "## Control flow\n"
      ]
    },
    {
      "cell_type": "markdown",
      "metadata": {
        "id": "1ffE3QzF9Zs0"
      },
      "source": [
        "### ***if***, ***elif***, and ***else***"
      ]
    },
    {
      "cell_type": "code",
      "execution_count": null,
      "metadata": {
        "id": "7jo6vtLFB0Qw"
      },
      "outputs": [],
      "source": [
        "a = 4\n",
        "b = 5\n",
        "\n",
        "if (a < 5):\n",
        "    print(\"minore\")\n",
        "else:\n",
        "    print(\"a è maggiore o uguale\")\n",
        "\n",
        "if (b == 5):\n",
        "    print(\"b uguale\")\n",
        "else:\n",
        "    print(\"b diverso\")"
      ]
    },
    {
      "cell_type": "code",
      "execution_count": null,
      "metadata": {
        "id": "aH1BPQMC6PLO"
      },
      "outputs": [],
      "source": [
        "a = 5\n",
        "if a == 7:\n",
        "  print('7')\n",
        "elif a == 5:\n",
        "  print('5')\n",
        "else:\n",
        "  print('diverso da 5 e 7')"
      ]
    },
    {
      "cell_type": "markdown",
      "metadata": {
        "id": "3c68VfWiB2rq"
      },
      "source": [
        "### ***for*** loops\n",
        "    - for loops are for iterating over a collection (like a list or tuple) or an iterator"
      ]
    },
    {
      "cell_type": "code",
      "execution_count": null,
      "metadata": {
        "id": "E4_K8WGRB6GU"
      },
      "outputs": [],
      "source": [
        "sequence = [1, 2, 3, 5, 6]\n",
        "for i in sequence:\n",
        "    print(\"i = \", i)\n",
        "    i = i + 1\n",
        "    print(\"i+1 = \", i)"
      ]
    },
    {
      "cell_type": "code",
      "execution_count": null,
      "metadata": {
        "id": "cg8WLvogB64h"
      },
      "outputs": [],
      "source": [
        "sequence = [1, 2, None, 5, None, \"francesco\"]\n",
        "for i in sequence:\n",
        "    print(i)\n",
        "    if i is None:\n",
        "      print('errore')"
      ]
    },
    {
      "cell_type": "code",
      "execution_count": null,
      "metadata": {
        "id": "Q8jWJWto8gMG"
      },
      "outputs": [],
      "source": [
        "range(10)"
      ]
    },
    {
      "cell_type": "code",
      "execution_count": null,
      "metadata": {
        "id": "9chqbW9HRiVh"
      },
      "outputs": [],
      "source": [
        "for i in range(10):\n",
        "    print(i)"
      ]
    },
    {
      "cell_type": "code",
      "execution_count": null,
      "metadata": {
        "id": "tcpdMgsVteBP"
      },
      "outputs": [],
      "source": [
        "range(1, 10)"
      ]
    },
    {
      "cell_type": "code",
      "execution_count": null,
      "metadata": {
        "id": "ynwUeAZAxHZv"
      },
      "outputs": [],
      "source": [
        "for i in range(1, 10):\n",
        "  print(i)"
      ]
    },
    {
      "cell_type": "code",
      "execution_count": null,
      "metadata": {
        "id": "MR-IaDwpCFlI"
      },
      "outputs": [],
      "source": [
        "a = range(10) # [0, 1, 2, 3, 4, 5, 6, 7, 8, 9]"
      ]
    },
    {
      "cell_type": "code",
      "execution_count": null,
      "metadata": {
        "id": "KEPYPnTyCIdN"
      },
      "outputs": [],
      "source": [
        "print(a)"
      ]
    },
    {
      "cell_type": "code",
      "execution_count": null,
      "metadata": {
        "id": "NfOZkUNPCKpi"
      },
      "outputs": [],
      "source": [
        "a[4]"
      ]
    },
    {
      "cell_type": "code",
      "execution_count": null,
      "metadata": {
        "id": "lH2gcPxjCMYx"
      },
      "outputs": [],
      "source": [
        "for i in range(10):\n",
        "    print(i)"
      ]
    },
    {
      "cell_type": "code",
      "execution_count": null,
      "metadata": {
        "id": "rUEz8WQcCNze"
      },
      "outputs": [],
      "source": [
        "for i in range(1, 10, 2):\n",
        "    print(i)"
      ]
    },
    {
      "cell_type": "code",
      "execution_count": null,
      "metadata": {
        "id": "zbtWzY-y5DaB"
      },
      "outputs": [],
      "source": [
        "for i in range(10, 22, 3):\n",
        "  print(i)"
      ]
    },
    {
      "cell_type": "markdown",
      "metadata": {
        "id": "SdDeLeuuCPLs"
      },
      "source": [
        "### ***while*** loops\n",
        "    - A while loop specifies a condition and a block of code that is to be executed until the condition evaluates to False or the loop is explicitly ended with break\n"
      ]
    },
    {
      "cell_type": "code",
      "execution_count": null,
      "metadata": {
        "id": "wlAMhcG3CREQ"
      },
      "outputs": [],
      "source": [
        "i = 0\n",
        "while i < 10:\n",
        "    print(\"i=\",i)\n",
        "    for a in range(i, 5):\n",
        "      print (\"a=\",a )\n",
        "\n",
        "    i = i + 1\n",
        "\n",
        "    if i == 2:\n",
        "      break"
      ]
    },
    {
      "cell_type": "markdown",
      "metadata": {
        "id": "u4gb72gVvPq1"
      },
      "source": [
        "Python does not have built-in functionality to explicitly create a do while loop like other languages. But it is possible to emulate a do while loop in Python using ***while*** and ***break***."
      ]
    },
    {
      "cell_type": "markdown",
      "metadata": {
        "id": "f2wgJVAaL29G"
      },
      "source": [
        "### ⚡**BREAK - esercizio**:\n",
        "\n",
        "### Scrivere una funzione che calcola la somma dei primi **N** numeri dispari usando i loop for o while."
      ]
    },
    {
      "cell_type": "code",
      "execution_count": 4,
      "metadata": {
        "id": "5KU2ns_VL1__"
      },
      "outputs": [
        {
          "data": {
            "text/plain": [
              "625"
            ]
          },
          "execution_count": 4,
          "metadata": {},
          "output_type": "execute_result"
        }
      ],
      "source": [
        "def somma_dispari(N):\n",
        "    lista = [numero for numero in range(N*2) if numero % 2 == 1]\n",
        "    return sum(lista)\n",
        "\n",
        "somma_dispari(25)"
      ]
    },
    {
      "cell_type": "markdown",
      "metadata": {
        "id": "Tq90m55NCTfk"
      },
      "source": [
        "## Built-in Data Structures"
      ]
    },
    {
      "cell_type": "markdown",
      "metadata": {
        "id": "o2WQh3k0DC1E"
      },
      "source": [
        "### Tuple\n",
        "- A tuple is a one-dimensional, fixed-length, immutable sequence of Python objects."
      ]
    },
    {
      "cell_type": "code",
      "execution_count": null,
      "metadata": {
        "id": "IeQxppdWDElm"
      },
      "outputs": [],
      "source": [
        "tup = (1, 2, 3, 4, 5, 6)"
      ]
    },
    {
      "cell_type": "code",
      "execution_count": null,
      "metadata": {
        "id": "uZN7kB1Bb-BN"
      },
      "outputs": [],
      "source": [
        "tup"
      ]
    },
    {
      "cell_type": "code",
      "execution_count": null,
      "metadata": {
        "id": "W_UlVDirDLVz"
      },
      "outputs": [],
      "source": [
        "type(tup)"
      ]
    },
    {
      "cell_type": "code",
      "execution_count": null,
      "metadata": {
        "id": "ceaqpQARDMrG"
      },
      "outputs": [],
      "source": [
        "tup"
      ]
    },
    {
      "cell_type": "code",
      "execution_count": null,
      "metadata": {
        "id": "MqTZbkiJDQRG"
      },
      "outputs": [],
      "source": [
        "tup[3]"
      ]
    },
    {
      "cell_type": "code",
      "execution_count": null,
      "metadata": {
        "id": "huqyoN0XzUlj"
      },
      "outputs": [],
      "source": [
        "tup[3] = 1"
      ]
    },
    {
      "cell_type": "code",
      "execution_count": null,
      "metadata": {
        "id": "1CIZ2Z0k_FXj"
      },
      "outputs": [],
      "source": [
        "tup = (1, 2, 3, 1, 5, 6)\n",
        "tup"
      ]
    },
    {
      "cell_type": "code",
      "execution_count": null,
      "metadata": {
        "id": "dlJWKgY0DTCa"
      },
      "outputs": [],
      "source": [
        "nestedTuple = (1, 3, 5, 7, 9), (2, 4, 6, 8, 10)"
      ]
    },
    {
      "cell_type": "code",
      "execution_count": null,
      "metadata": {
        "id": "G4jesX3F9cz-"
      },
      "outputs": [],
      "source": [
        "nestedTuple"
      ]
    },
    {
      "cell_type": "code",
      "execution_count": null,
      "metadata": {
        "id": "kihu7SpdLmYC"
      },
      "outputs": [],
      "source": [
        "nestedTuple[0]"
      ]
    },
    {
      "cell_type": "code",
      "execution_count": null,
      "metadata": {
        "id": "uqKiMmj6clzU"
      },
      "outputs": [],
      "source": [
        "nestedTuple[0][0]"
      ]
    },
    {
      "cell_type": "code",
      "execution_count": null,
      "metadata": {
        "id": "J3Om8u8G_GH1"
      },
      "outputs": [],
      "source": [
        "nestedTuple[1][1]"
      ]
    },
    {
      "cell_type": "code",
      "execution_count": null,
      "metadata": {
        "id": "oOT-uJst9mgI"
      },
      "outputs": [],
      "source": [
        "nestedTuple[0][4]"
      ]
    },
    {
      "cell_type": "code",
      "execution_count": null,
      "metadata": {
        "id": "Wx2rSlCT_Gpg"
      },
      "outputs": [],
      "source": [
        "nestedTuple = ((1, 3, 5, 7, 9), (2, 4, 6, 8, 10))\n",
        "nestedTuple[1][1]"
      ]
    },
    {
      "cell_type": "code",
      "execution_count": null,
      "metadata": {
        "id": "niVlPS6FDU2E"
      },
      "outputs": [],
      "source": [
        "nestedTuple"
      ]
    },
    {
      "cell_type": "code",
      "execution_count": null,
      "metadata": {
        "id": "rJ5qjtw5DWQB"
      },
      "outputs": [],
      "source": [
        "nestedTuple[0][1]"
      ]
    },
    {
      "cell_type": "code",
      "execution_count": null,
      "metadata": {
        "id": "uHIYx60bDbWl"
      },
      "outputs": [],
      "source": [
        "tuple(\"Francesco\")"
      ]
    },
    {
      "cell_type": "code",
      "execution_count": null,
      "metadata": {
        "id": "pwmu3QeS95w8"
      },
      "outputs": [],
      "source": [
        "tuple(\"Francesco\")[0]"
      ]
    },
    {
      "cell_type": "code",
      "execution_count": null,
      "metadata": {
        "id": "2jjuYQNeDYAN"
      },
      "outputs": [],
      "source": [
        "tupMixed = 1, 'a', [1,2]"
      ]
    },
    {
      "cell_type": "code",
      "execution_count": null,
      "metadata": {
        "id": "D8HtTK6iDaKk"
      },
      "outputs": [],
      "source": [
        "tupMixed"
      ]
    },
    {
      "cell_type": "code",
      "execution_count": null,
      "metadata": {
        "id": "AnjavlylDcv4"
      },
      "outputs": [],
      "source": [
        "tupMixed[0]"
      ]
    },
    {
      "cell_type": "code",
      "execution_count": null,
      "metadata": {
        "id": "nmXdmCVEDeN2"
      },
      "outputs": [],
      "source": [
        "tupMixed[0] = 14"
      ]
    },
    {
      "cell_type": "code",
      "execution_count": null,
      "metadata": {
        "id": "Sg6TL5y-ABm_"
      },
      "outputs": [],
      "source": [
        "tupMixed[2]"
      ]
    },
    {
      "cell_type": "code",
      "execution_count": null,
      "metadata": {
        "id": "IAcUQI4qDfvp"
      },
      "outputs": [],
      "source": [
        "tupMixed[2].append(14)"
      ]
    },
    {
      "cell_type": "code",
      "execution_count": null,
      "metadata": {
        "id": "RDHjGnfcDhEx"
      },
      "outputs": [],
      "source": [
        "tupMixed"
      ]
    },
    {
      "cell_type": "markdown",
      "metadata": {
        "id": "-UuiSnSuDhXP"
      },
      "source": [
        "-  Tuple methods\n",
        "    - Tuples can be concatenated using the + operator\n",
        "    - One particularly useful method (also available on lists) is count, which counts the number of occurrences of a value  "
      ]
    },
    {
      "cell_type": "code",
      "execution_count": null,
      "metadata": {
        "id": "VB1MfiKx-P_O"
      },
      "outputs": [],
      "source": [
        "tupMixed"
      ]
    },
    {
      "cell_type": "code",
      "execution_count": null,
      "metadata": {
        "id": "nAdLi02yDrX0"
      },
      "outputs": [],
      "source": [
        "nestedTuple + tupMixed"
      ]
    },
    {
      "cell_type": "code",
      "execution_count": null,
      "metadata": {
        "id": "5PBEWqYlzztL"
      },
      "outputs": [],
      "source": [
        "t1 = (1, 2, 3)\n",
        "t2 = (4, 5, 6)\n",
        "t = t1 + t2\n",
        "t"
      ]
    },
    {
      "cell_type": "code",
      "execution_count": null,
      "metadata": {
        "id": "aMVH6satDs-H"
      },
      "outputs": [],
      "source": [
        "tupMixed.count(1)"
      ]
    },
    {
      "cell_type": "code",
      "execution_count": null,
      "metadata": {
        "id": "dXZ0Rw4f-hsc"
      },
      "outputs": [],
      "source": [
        "tupMixed"
      ]
    },
    {
      "cell_type": "code",
      "execution_count": null,
      "metadata": {
        "id": "GKPL54OrDuFX"
      },
      "outputs": [],
      "source": [
        "tupMixed.count('g')"
      ]
    },
    {
      "cell_type": "code",
      "execution_count": null,
      "metadata": {
        "id": "Pt9kXs1z-bmf"
      },
      "outputs": [],
      "source": [
        "len(tupMixed)"
      ]
    },
    {
      "cell_type": "markdown",
      "metadata": {
        "id": "Y2OQv5eAD2nN"
      },
      "source": [
        "### List\n",
        "\n",
        "  - lists are variable-length and their contents can be modified\n",
        "  - They can be defined using square brackets **\\[ \\]** or using the list type function"
      ]
    },
    {
      "cell_type": "code",
      "execution_count": null,
      "metadata": {
        "id": "aUAN2-LBEPcL"
      },
      "outputs": [],
      "source": [
        "listA = [0, 1, 2, 3]"
      ]
    },
    {
      "cell_type": "code",
      "execution_count": null,
      "metadata": {
        "id": "nZJiH15buv2A"
      },
      "outputs": [],
      "source": [
        "listA"
      ]
    },
    {
      "cell_type": "code",
      "execution_count": null,
      "metadata": {
        "id": "2ZgJQOKlutok"
      },
      "outputs": [],
      "source": [
        "listA[0]"
      ]
    },
    {
      "cell_type": "code",
      "execution_count": null,
      "metadata": {
        "id": "M8Uk2SjtABVX"
      },
      "outputs": [],
      "source": [
        "listA[0] = 555"
      ]
    },
    {
      "cell_type": "code",
      "execution_count": null,
      "metadata": {
        "id": "_XFlEop8AB7J"
      },
      "outputs": [],
      "source": [
        "listA"
      ]
    },
    {
      "cell_type": "code",
      "execution_count": null,
      "metadata": {
        "id": "RkbdMFwtBNvF"
      },
      "outputs": [],
      "source": [
        "listB = listA\n",
        "listB"
      ]
    },
    {
      "cell_type": "code",
      "execution_count": null,
      "metadata": {
        "id": "as21QMa1BNrn"
      },
      "outputs": [],
      "source": [
        "listA[0]=1\n",
        "listB"
      ]
    },
    {
      "cell_type": "code",
      "execution_count": null,
      "metadata": {
        "id": "3l1_w3vRNzhC"
      },
      "outputs": [],
      "source": [
        "listB[0]=44"
      ]
    },
    {
      "cell_type": "code",
      "execution_count": null,
      "metadata": {
        "id": "01p8c6hzNzdg"
      },
      "outputs": [],
      "source": [
        "listA[1]=111"
      ]
    },
    {
      "cell_type": "code",
      "execution_count": null,
      "metadata": {
        "id": "XMGFFHXc0ZHw"
      },
      "outputs": [],
      "source": [
        "tupMixed=(1,'a',[1,2,14])"
      ]
    },
    {
      "cell_type": "code",
      "execution_count": null,
      "metadata": {
        "id": "7s-28fDSEThB"
      },
      "outputs": [],
      "source": [
        "listB = list(tupMixed)"
      ]
    },
    {
      "cell_type": "code",
      "execution_count": null,
      "metadata": {
        "id": "eKFelkESEX65"
      },
      "outputs": [],
      "source": [
        "listB"
      ]
    },
    {
      "cell_type": "code",
      "execution_count": null,
      "metadata": {
        "id": "PEG0nNt7EZ4Q"
      },
      "outputs": [],
      "source": [
        "listB[0] = 13"
      ]
    },
    {
      "cell_type": "code",
      "execution_count": null,
      "metadata": {
        "id": "QCKZtSqnBZR3"
      },
      "outputs": [],
      "source": [
        "listB"
      ]
    },
    {
      "cell_type": "code",
      "execution_count": null,
      "metadata": {
        "id": "6JLdGe3P4k__"
      },
      "outputs": [],
      "source": [
        "list('abcd')"
      ]
    },
    {
      "cell_type": "code",
      "execution_count": null,
      "metadata": {
        "id": "lsMOpTRv-94K"
      },
      "outputs": [],
      "source": [
        "for i in list('abcde'):\n",
        "  print(i)"
      ]
    },
    {
      "cell_type": "markdown",
      "metadata": {
        "id": "ZukWErPjEbk4"
      },
      "source": [
        "- List methods\n",
        "    - Adding and removing elements\n",
        "    - Concatenating and combining lists\n",
        "    - Sorting\n",
        "    - Slicing\n",
        "    - Searching an element\n",
        "    - Enumerating elements\n",
        "    - Pairing lists\n",
        "\n"
      ]
    },
    {
      "cell_type": "code",
      "execution_count": null,
      "metadata": {
        "id": "82wwy_BG_KhH"
      },
      "outputs": [],
      "source": [
        "listA"
      ]
    },
    {
      "cell_type": "code",
      "execution_count": null,
      "metadata": {
        "id": "uxrAFgfaEdZi"
      },
      "outputs": [],
      "source": [
        "# Adding element via append\n",
        "listA.append(4)\n",
        "listA"
      ]
    },
    {
      "cell_type": "code",
      "execution_count": null,
      "metadata": {
        "id": "Cewqy9lDAYMs"
      },
      "outputs": [],
      "source": [
        "listA.append(1000)\n",
        "listA"
      ]
    },
    {
      "cell_type": "code",
      "execution_count": null,
      "metadata": {
        "id": "kZzup35OEglw"
      },
      "outputs": [],
      "source": [
        "# Inserting an element in a specific location\n",
        "listA.insert(1, \"Francesco\")\n",
        "listA"
      ]
    },
    {
      "cell_type": "code",
      "execution_count": null,
      "metadata": {
        "id": "HRImzc3L_SLc"
      },
      "outputs": [],
      "source": [
        "listA[1]"
      ]
    },
    {
      "cell_type": "code",
      "execution_count": null,
      "metadata": {
        "id": "Or-RrSu_Eg_K"
      },
      "outputs": [],
      "source": [
        "listA"
      ]
    },
    {
      "cell_type": "code",
      "execution_count": null,
      "metadata": {
        "id": "KhYGF-BYE5G-"
      },
      "outputs": [],
      "source": [
        "# Removing an element from a specific location\n",
        "listA.pop(0)"
      ]
    },
    {
      "cell_type": "code",
      "execution_count": null,
      "metadata": {
        "id": "J453bi3EE6ep"
      },
      "outputs": [],
      "source": [
        "listA"
      ]
    },
    {
      "cell_type": "code",
      "execution_count": null,
      "metadata": {
        "id": "Z1KWY33UE8Y0"
      },
      "outputs": [],
      "source": [
        "# Removing a specific element (the first in case of duplication) from a list\n",
        "listA.remove(4)"
      ]
    },
    {
      "cell_type": "code",
      "execution_count": null,
      "metadata": {
        "id": "jUtknNxYE9o9"
      },
      "outputs": [],
      "source": [
        "listA"
      ]
    },
    {
      "cell_type": "code",
      "execution_count": null,
      "metadata": {
        "id": "AK_nTyKT_jjP"
      },
      "outputs": [],
      "source": [
        "listA.remove(4)"
      ]
    },
    {
      "cell_type": "code",
      "execution_count": null,
      "metadata": {
        "id": "jgx7l0rf_og_"
      },
      "outputs": [],
      "source": [
        "if 4 in listA:\n",
        "  listA.remove(4)"
      ]
    },
    {
      "cell_type": "code",
      "execution_count": null,
      "metadata": {
        "id": "K9EvlEa3FHOl"
      },
      "outputs": [],
      "source": [
        "# Concatenating\n",
        "listA + listA"
      ]
    },
    {
      "cell_type": "code",
      "execution_count": null,
      "metadata": {
        "id": "3QT5aQlvUQoT"
      },
      "outputs": [],
      "source": [
        "listA"
      ]
    },
    {
      "cell_type": "code",
      "execution_count": null,
      "metadata": {
        "id": "PyRRKKk5FIjw"
      },
      "outputs": [],
      "source": [
        "# Extending\n",
        "listA.extend([4,5])"
      ]
    },
    {
      "cell_type": "code",
      "execution_count": null,
      "metadata": {
        "id": "M1uIdD_torSu"
      },
      "outputs": [],
      "source": [
        "listA"
      ]
    },
    {
      "cell_type": "code",
      "execution_count": null,
      "metadata": {
        "id": "Bk6LUJGRFJ1Y"
      },
      "outputs": [],
      "source": [
        "listA.append([4,5])"
      ]
    },
    {
      "cell_type": "code",
      "execution_count": null,
      "metadata": {
        "id": "nTrZFbFnox6F"
      },
      "outputs": [],
      "source": [
        "listA"
      ]
    },
    {
      "cell_type": "code",
      "execution_count": null,
      "metadata": {
        "id": "X8NIl18sFLno"
      },
      "outputs": [],
      "source": [
        "# Sorting\n",
        "listNum = [0,43,27,18,90,4]"
      ]
    },
    {
      "cell_type": "code",
      "execution_count": null,
      "metadata": {
        "id": "efvSG54HFOQQ"
      },
      "outputs": [],
      "source": [
        "listNum.sort()"
      ]
    },
    {
      "cell_type": "code",
      "execution_count": null,
      "metadata": {
        "id": "psnTRwYbFRdm"
      },
      "outputs": [],
      "source": [
        "listNum"
      ]
    },
    {
      "cell_type": "code",
      "execution_count": null,
      "metadata": {
        "id": "54dBkPEDFRzu"
      },
      "outputs": [],
      "source": [
        "# Slicing\n",
        "# You can select sections of list-like types (arrays, tuples, NumPy arrays) by using slice notation,\n",
        "# which in its basic form consists of start:stop passed to the indexing operator []\n",
        "listNum"
      ]
    },
    {
      "cell_type": "code",
      "execution_count": null,
      "metadata": {
        "id": "IZ0zXT41U0ju"
      },
      "outputs": [],
      "source": [
        "listNum"
      ]
    },
    {
      "cell_type": "code",
      "execution_count": null,
      "metadata": {
        "id": "qxt2CemiOrwX"
      },
      "outputs": [],
      "source": [
        "listNum[1]"
      ]
    },
    {
      "cell_type": "code",
      "execution_count": null,
      "metadata": {
        "id": "m04smElr24Md"
      },
      "outputs": [],
      "source": [
        "listNum[0:100]"
      ]
    },
    {
      "cell_type": "code",
      "execution_count": null,
      "metadata": {
        "id": "wrdZIRyWO5Qa"
      },
      "outputs": [],
      "source": [
        "listNum[0:2]"
      ]
    },
    {
      "cell_type": "code",
      "execution_count": null,
      "metadata": {
        "id": "bq0scgkUvFtT"
      },
      "outputs": [],
      "source": [
        "listNum[5]"
      ]
    },
    {
      "cell_type": "code",
      "execution_count": null,
      "metadata": {
        "id": "WRlXvoEJBXwj"
      },
      "outputs": [],
      "source": [
        "listNum[1:4]"
      ]
    },
    {
      "cell_type": "code",
      "execution_count": null,
      "metadata": {
        "id": "N_LtaYK1IUp0"
      },
      "outputs": [],
      "source": [
        "listNum[0:2]"
      ]
    },
    {
      "cell_type": "code",
      "execution_count": null,
      "metadata": {
        "id": "GigiyN8zIWuA"
      },
      "outputs": [],
      "source": [
        "listNum[1:]"
      ]
    },
    {
      "cell_type": "code",
      "execution_count": null,
      "metadata": {
        "id": "iMgIvjSaIYMm"
      },
      "outputs": [],
      "source": [
        "listNum[:2]"
      ]
    },
    {
      "cell_type": "code",
      "execution_count": null,
      "metadata": {
        "id": "Uip0KF_UAfuZ"
      },
      "outputs": [],
      "source": [
        "listNum"
      ]
    },
    {
      "cell_type": "code",
      "execution_count": null,
      "metadata": {
        "id": "xrLqfWlWIZtD"
      },
      "outputs": [],
      "source": [
        "listNum[-2]"
      ]
    },
    {
      "cell_type": "code",
      "execution_count": null,
      "metadata": {
        "id": "GisXOYlRAn9U"
      },
      "outputs": [],
      "source": [
        "listNum[:3]"
      ]
    },
    {
      "cell_type": "code",
      "execution_count": null,
      "metadata": {
        "id": "cFA-LLOrIbQD"
      },
      "outputs": [],
      "source": [
        "listNum[-3:]"
      ]
    },
    {
      "cell_type": "code",
      "execution_count": null,
      "metadata": {
        "id": "D_7t5SiiAvjR"
      },
      "outputs": [],
      "source": [
        "listNum"
      ]
    },
    {
      "cell_type": "code",
      "execution_count": null,
      "metadata": {
        "id": "x9tyQyvKIdM_"
      },
      "outputs": [],
      "source": [
        "listNum[0:4:2]"
      ]
    },
    {
      "cell_type": "code",
      "execution_count": null,
      "metadata": {
        "id": "wUwG5xRBIesT"
      },
      "outputs": [],
      "source": [
        "listNum[::-1]"
      ]
    },
    {
      "cell_type": "code",
      "execution_count": null,
      "metadata": {
        "id": "0fUS8XNBIgTn"
      },
      "outputs": [],
      "source": [
        "# Searching in List\n",
        "2 in listNum"
      ]
    },
    {
      "cell_type": "code",
      "execution_count": null,
      "metadata": {
        "id": "oy9jF-BWIh93"
      },
      "outputs": [],
      "source": [
        "4 in listNum"
      ]
    },
    {
      "cell_type": "code",
      "execution_count": null,
      "metadata": {
        "id": "OrUzRcOaIjye"
      },
      "outputs": [],
      "source": [
        "# Python has a built-in function, enumerate, which returns a\n",
        "# sequence of (i, value) tuples:\n",
        "\n",
        "# for i, value in enumerate(collection):\n",
        "#   do something with value\n",
        "\n",
        "a = [\"a\", \"b\", \"c\", \"d\"]\n",
        "for i, value in enumerate(a):\n",
        "    print(str(i) + \"   \" + value)"
      ]
    },
    {
      "cell_type": "code",
      "execution_count": null,
      "metadata": {
        "id": "UWLyX28rQvdq"
      },
      "outputs": [],
      "source": [
        "for i,z in enumerate(a):\n",
        "  print(z)"
      ]
    },
    {
      "cell_type": "code",
      "execution_count": null,
      "metadata": {
        "id": "5brbFQ2K3SkV"
      },
      "outputs": [],
      "source": [
        "a = [\"a\", \"b\", \"c\", \"d\"]"
      ]
    },
    {
      "cell_type": "code",
      "execution_count": null,
      "metadata": {
        "id": "SOmRGqi83WRL"
      },
      "outputs": [],
      "source": [
        "for ix, x in enumerate(a):\n",
        "  print(ix, x)"
      ]
    },
    {
      "cell_type": "code",
      "execution_count": null,
      "metadata": {
        "id": "Kn2LcKRbRERr"
      },
      "outputs": [],
      "source": [
        "a"
      ]
    },
    {
      "cell_type": "code",
      "execution_count": null,
      "metadata": {
        "id": "yB3q8ZBcIqg5"
      },
      "outputs": [],
      "source": [
        "# zip “pairs” up the elements of a number of lists, tuples, or other sequences to create a list of tuples\n",
        "b = [1, 2, 3, 4]\n",
        "zip(a, b)\n",
        "list(zip(a, b))"
      ]
    },
    {
      "cell_type": "code",
      "execution_count": null,
      "metadata": {
        "id": "orrTAonA3xnK"
      },
      "outputs": [],
      "source": [
        "for x in zip(a, b):\n",
        "  print(type(x))"
      ]
    },
    {
      "cell_type": "markdown",
      "metadata": {
        "id": "WySgshPYIy2x"
      },
      "source": [
        "### Dictionary\n",
        "- It is hash map or associative array.\n",
        "- It is a flexibly-sized collection of key-value pairs, key and value are objects.\n",
        "- One way to create one is by using curly braces {} and using colons to separate keys and values"
      ]
    },
    {
      "cell_type": "code",
      "execution_count": null,
      "metadata": {
        "id": "6idTpQ8O4ui2"
      },
      "outputs": [],
      "source": [
        "diz = {}\n",
        "diz['Firstname'] = 'francesco'\n",
        "diz['Lastname'] = 'rossi'"
      ]
    },
    {
      "cell_type": "code",
      "execution_count": null,
      "metadata": {
        "id": "vgo2ergP5BW2"
      },
      "outputs": [],
      "source": [
        "diz"
      ]
    },
    {
      "cell_type": "code",
      "execution_count": null,
      "metadata": {
        "id": "8-qp3zld5K7H"
      },
      "outputs": [],
      "source": [
        "diz.keys()"
      ]
    },
    {
      "cell_type": "code",
      "execution_count": null,
      "metadata": {
        "id": "yxSKUM5E5QAC"
      },
      "outputs": [],
      "source": [
        "for i in diz.values():\n",
        "  print(i)"
      ]
    },
    {
      "cell_type": "code",
      "execution_count": null,
      "metadata": {
        "id": "vUekaIbD5TXq"
      },
      "outputs": [],
      "source": [
        "diz.items()"
      ]
    },
    {
      "cell_type": "code",
      "execution_count": null,
      "metadata": {
        "id": "BJYBDQq55mA7"
      },
      "outputs": [],
      "source": [
        "del diz['Firstname']"
      ]
    },
    {
      "cell_type": "code",
      "execution_count": null,
      "metadata": {
        "id": "BvxY1ZIR5_lS"
      },
      "outputs": [],
      "source": [
        "diz['parola'] = 0"
      ]
    },
    {
      "cell_type": "code",
      "execution_count": null,
      "metadata": {
        "id": "EEbi1UEC6Dn_"
      },
      "outputs": [],
      "source": [
        "diz['parola'] += 1"
      ]
    },
    {
      "cell_type": "code",
      "execution_count": null,
      "metadata": {
        "id": "dQp9mOla6I9o"
      },
      "outputs": [],
      "source": [
        "diz"
      ]
    },
    {
      "cell_type": "code",
      "execution_count": null,
      "metadata": {
        "id": "JZT9tlMfR9Va"
      },
      "outputs": [],
      "source": [
        "diz[0]=4"
      ]
    },
    {
      "cell_type": "code",
      "execution_count": null,
      "metadata": {
        "id": "_unnp0QI5ph2"
      },
      "outputs": [],
      "source": [
        "diz"
      ]
    },
    {
      "cell_type": "code",
      "execution_count": null,
      "metadata": {
        "id": "sTlWX0sgJEQZ"
      },
      "outputs": [],
      "source": [
        "d = {'Nome': 'Giovanni', 'livello': 'supervisore', 4: 44}\n",
        "d"
      ]
    },
    {
      "cell_type": "code",
      "execution_count": null,
      "metadata": {
        "id": "A-PehEJQJPWS"
      },
      "outputs": [],
      "source": [
        "d[4]"
      ]
    },
    {
      "cell_type": "code",
      "execution_count": null,
      "metadata": {
        "id": "dZ3IbbIUBfp1"
      },
      "outputs": [],
      "source": [
        "d['stipendio']"
      ]
    },
    {
      "cell_type": "code",
      "execution_count": null,
      "metadata": {
        "id": "s3YESUmoJUPO"
      },
      "outputs": [],
      "source": [
        "d['stipendio'] = 10000\n",
        "d"
      ]
    },
    {
      "cell_type": "markdown",
      "metadata": {
        "id": "jQxcQWkzJVsP"
      },
      "source": [
        "- Creating dicts from sequences"
      ]
    },
    {
      "cell_type": "code",
      "execution_count": null,
      "metadata": {
        "id": "G2vqyGf-JXgS"
      },
      "outputs": [],
      "source": [
        "seqA = ['a', 'b', 'c', 'd', 'e']\n",
        "seqB = range(1, 6)\n",
        "\n",
        "mapping = {}\n",
        "for key, value in zip(seqA, seqB):\n",
        "  #print(key)\n",
        "  #print(value)\n",
        "  mapping[key] = value\n",
        "\n"
      ]
    },
    {
      "cell_type": "code",
      "execution_count": null,
      "metadata": {
        "id": "J3UXjUuVSc69"
      },
      "outputs": [],
      "source": [
        "mapping"
      ]
    },
    {
      "cell_type": "markdown",
      "metadata": {
        "id": "n30H0idXJafM"
      },
      "source": [
        "- Dictionary Methods\n",
        "    - Searching for an element\n",
        "    - Removing an element\n",
        "    - keys and values"
      ]
    },
    {
      "cell_type": "code",
      "execution_count": null,
      "metadata": {
        "id": "oI1lVkhECnZi"
      },
      "outputs": [],
      "source": [
        "dictTel = {\"Francesco\": 335666, \"Matteo\": 3478888, \"Michela\": 5454455}"
      ]
    },
    {
      "cell_type": "code",
      "execution_count": null,
      "metadata": {
        "id": "Ic5-Q92PC4Un"
      },
      "outputs": [],
      "source": [
        "dictTel[\"Francesco\"] = 666335"
      ]
    },
    {
      "cell_type": "code",
      "execution_count": null,
      "metadata": {
        "id": "a20VARJiJSD7"
      },
      "outputs": [],
      "source": [
        "dictTel"
      ]
    },
    {
      "cell_type": "code",
      "execution_count": null,
      "metadata": {
        "id": "FUfykO2oJbJi"
      },
      "outputs": [],
      "source": [
        "if 'Matteo' in dictTel:\n",
        "    print(dictTel['Matteo'])"
      ]
    },
    {
      "cell_type": "code",
      "execution_count": null,
      "metadata": {
        "id": "7FHfOh2_Jp5p"
      },
      "outputs": [],
      "source": [
        "# Removing elements\n",
        "dictTel.pop('Matteo')\n",
        "dictTel"
      ]
    },
    {
      "cell_type": "code",
      "execution_count": null,
      "metadata": {
        "id": "o1Ymuno26EQ4"
      },
      "outputs": [],
      "source": [
        "dictTel.pop('Matteo')"
      ]
    },
    {
      "cell_type": "code",
      "execution_count": null,
      "metadata": {
        "id": "JxUfqJGaJsTE"
      },
      "outputs": [],
      "source": [
        "del dictTel[\"Michela\"]\n",
        "dictTel"
      ]
    },
    {
      "cell_type": "code",
      "execution_count": null,
      "metadata": {
        "id": "VvdFT0v36DeV"
      },
      "outputs": [],
      "source": [
        "del dictTel[\"Michela\"]"
      ]
    },
    {
      "cell_type": "code",
      "execution_count": null,
      "metadata": {
        "id": "FAr_alJrCQ2t"
      },
      "outputs": [],
      "source": [
        "dictTel"
      ]
    },
    {
      "cell_type": "code",
      "execution_count": null,
      "metadata": {
        "id": "NzN39GQfJu5i"
      },
      "outputs": [],
      "source": [
        "# List of keys\n",
        "dictTel.keys()"
      ]
    },
    {
      "cell_type": "code",
      "execution_count": null,
      "metadata": {
        "id": "2-yTExPBJyEt"
      },
      "outputs": [],
      "source": [
        "# List of values\n",
        "dictTel.values()"
      ]
    },
    {
      "cell_type": "code",
      "execution_count": null,
      "metadata": {
        "id": "ldmcoUp0ER1n"
      },
      "outputs": [],
      "source": [
        "if \"Michela\" in dictTel.keys():\n",
        "  del dictTel[\"Michela\"]"
      ]
    },
    {
      "cell_type": "code",
      "execution_count": null,
      "metadata": {
        "id": "wpjCvS-LW7lr"
      },
      "outputs": [],
      "source": [
        "dictTel.items()"
      ]
    },
    {
      "cell_type": "code",
      "execution_count": null,
      "metadata": {
        "id": "m_0QBdiODtMw"
      },
      "outputs": [],
      "source": [
        "dictTel"
      ]
    },
    {
      "cell_type": "code",
      "execution_count": null,
      "metadata": {
        "id": "uSUXkVVl6YLf"
      },
      "outputs": [],
      "source": [
        "for k, val in dictTel.items():\n",
        "  print(k)\n",
        "  print(val)"
      ]
    },
    {
      "cell_type": "markdown",
      "metadata": {
        "id": "A7JKONitJyaO"
      },
      "source": [
        "### Set\n",
        "- A set is an unordered collection of unique elements.  \n",
        "- A set can be created in two ways: via the set function or using a set literal with curly braces\n",
        "\n"
      ]
    },
    {
      "cell_type": "code",
      "execution_count": null,
      "metadata": {
        "id": "ZI29pA2JJ6EA"
      },
      "outputs": [],
      "source": [
        "listSet = [1, 1, 1, 1, 1, 1, 2, 3, 4]\n",
        "listSet"
      ]
    },
    {
      "cell_type": "code",
      "execution_count": null,
      "metadata": {
        "id": "CX0QL9juJ9fe"
      },
      "outputs": [],
      "source": [
        "set(listSet)"
      ]
    },
    {
      "cell_type": "code",
      "execution_count": null,
      "metadata": {
        "id": "vwvn_ghFJ_rI"
      },
      "outputs": [],
      "source": [
        "setExample = {1, 1, 1, 1, 1, 1, 2, 3, 4}"
      ]
    },
    {
      "cell_type": "code",
      "execution_count": null,
      "metadata": {
        "id": "nYBZcKnoKCBW"
      },
      "outputs": [],
      "source": [
        "setExample"
      ]
    },
    {
      "cell_type": "code",
      "execution_count": null,
      "metadata": {
        "id": "O2Ue-JGLbqIn"
      },
      "outputs": [],
      "source": [
        "setExample.intersection({2, 3, 4, 5})"
      ]
    },
    {
      "cell_type": "code",
      "execution_count": null,
      "metadata": {
        "id": "0u-OSJPJC4mc"
      },
      "outputs": [],
      "source": [
        "setExample.union({2, 3, 4, 5})"
      ]
    },
    {
      "cell_type": "markdown",
      "metadata": {
        "id": "Ioo4qBB1KCUR"
      },
      "source": [
        "## List, Set, and Dict Comprehensions\n",
        "- List comprehensions are one of the most-loved Python language features.\n",
        "- They allow you to concisely form a new list by filtering the elements of a collection and transforming the elements passing the filter in one concise expression. They take the basic form:\n",
        "- [expr **for** val **in** collection **if** condition]"
      ]
    },
    {
      "cell_type": "code",
      "execution_count": null,
      "metadata": {
        "id": "wAwPvaRDDHWJ"
      },
      "outputs": [],
      "source": [
        "'se'.upper()"
      ]
    },
    {
      "cell_type": "code",
      "execution_count": null,
      "metadata": {
        "id": "SIL3rlwyDLJe"
      },
      "outputs": [],
      "source": [
        "new = []\n",
        "listMin = ['una', 'lista', 'di', 'parole', 'minuscole', 'e', 'MAIUSCOLE']\n",
        "\n",
        "for x in listMin:\n",
        "  if len(x) > 2:\n",
        "    x = x.upper()\n",
        "    new.append(x)"
      ]
    },
    {
      "cell_type": "code",
      "execution_count": null,
      "metadata": {
        "id": "43PPXxelPhbt"
      },
      "outputs": [],
      "source": [
        "new"
      ]
    },
    {
      "cell_type": "code",
      "execution_count": null,
      "metadata": {
        "id": "3lKaaxJIUDVp"
      },
      "outputs": [],
      "source": [
        "[x.upper() for x in listMin if len(x)>2]"
      ]
    },
    {
      "cell_type": "code",
      "execution_count": null,
      "metadata": {
        "id": "0YoSA8JoE8pL"
      },
      "outputs": [],
      "source": [
        "{str(i):i for i in [1,2,3,4,5]}"
      ]
    },
    {
      "cell_type": "code",
      "execution_count": null,
      "metadata": {
        "id": "G5R3eaOkE8zl"
      },
      "outputs": [],
      "source": [
        "fruits = ['apple', 'mango', 'banana','cherry']\n",
        "{f:len(f) for f in fruits}"
      ]
    },
    {
      "cell_type": "code",
      "execution_count": null,
      "metadata": {
        "id": "Woy90L1v0gIB"
      },
      "outputs": [],
      "source": [
        "for i,j in enumerate(fruits):\n",
        "  print(i)\n",
        "  print(j)"
      ]
    },
    {
      "cell_type": "code",
      "execution_count": null,
      "metadata": {
        "id": "PO8c5DJME87n"
      },
      "outputs": [],
      "source": [
        "{f:i for i,f in enumerate(fruits)}"
      ]
    },
    {
      "cell_type": "markdown",
      "metadata": {
        "id": "65B-mcGCKMtb"
      },
      "source": [
        "## Anonymous (Lambda) Functions\n",
        "\n",
        "- Python has support for so-called anonymous or lambda functions\n",
        "    - a way of writing functions consisting of a single statement\n",
        "    - the result is the return value.\n",
        "    - they are defined with the lambda keyword"
      ]
    },
    {
      "cell_type": "code",
      "execution_count": null,
      "metadata": {
        "id": "1KpzcBGUKV2J"
      },
      "outputs": [],
      "source": [
        "def twoTimes(x):\n",
        "    return x * 2"
      ]
    },
    {
      "cell_type": "code",
      "execution_count": null,
      "metadata": {
        "id": "hT9dV4-SKauQ"
      },
      "outputs": [],
      "source": [
        "twoTimes(3)"
      ]
    },
    {
      "cell_type": "code",
      "execution_count": null,
      "metadata": {
        "id": "0n0UHFMHKcIe"
      },
      "outputs": [],
      "source": [
        "twoTimesLambda = lambda x: x * 2"
      ]
    },
    {
      "cell_type": "code",
      "execution_count": null,
      "metadata": {
        "id": "u_dhLSVSKdvD"
      },
      "outputs": [],
      "source": [
        "twoTimesLambda(3)"
      ]
    },
    {
      "cell_type": "code",
      "execution_count": null,
      "metadata": {
        "id": "E2oZsowhgLnD"
      },
      "outputs": [],
      "source": [
        "def applyList(aList, aFunction):\n",
        "  newList = []\n",
        "  for x in aList:\n",
        "    y = aFunction(x)\n",
        "    newList.append(y)\n",
        "  return newList"
      ]
    },
    {
      "cell_type": "code",
      "execution_count": null,
      "metadata": {
        "id": "CKysCRBVgitQ"
      },
      "outputs": [],
      "source": [
        "applyList([1, 4, 5, 7, 11], twoTimes)"
      ]
    },
    {
      "cell_type": "code",
      "execution_count": null,
      "metadata": {
        "id": "v2bqMQV0KhQE"
      },
      "outputs": [],
      "source": [
        "def applyListComp(aList, aFunction):\n",
        "    return [aFunction(x) for x in aList]"
      ]
    },
    {
      "cell_type": "code",
      "execution_count": null,
      "metadata": {
        "id": "_2_BdINnKmi9"
      },
      "outputs": [],
      "source": [
        "applyListComp([1, 4, 5, 7, 11], twoTimes)"
      ]
    },
    {
      "cell_type": "code",
      "execution_count": null,
      "metadata": {
        "id": "IUvJBGXaKpg2"
      },
      "outputs": [],
      "source": [
        "applyListComp([1, 4, 5, 7, 11], lambda x: x ** 2)"
      ]
    }
  ],
  "metadata": {
    "colab": {
      "provenance": []
    },
    "kernelspec": {
      "display_name": "Python 3 (ipykernel)",
      "language": "python",
      "name": "python3"
    },
    "language_info": {
      "codemirror_mode": {
        "name": "ipython",
        "version": 3
      },
      "file_extension": ".py",
      "mimetype": "text/x-python",
      "name": "python",
      "nbconvert_exporter": "python",
      "pygments_lexer": "ipython3",
      "version": "3.11.8"
    }
  },
  "nbformat": 4,
  "nbformat_minor": 0
}
