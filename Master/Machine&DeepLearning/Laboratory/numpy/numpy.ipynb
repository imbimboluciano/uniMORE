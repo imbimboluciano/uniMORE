{
  "nbformat": 4,
  "nbformat_minor": 0,
  "metadata": {
    "colab": {
      "provenance": []
    },
    "kernelspec": {
      "name": "python3",
      "display_name": "Python 3"
    },
    "language_info": {
      "name": "python"
    }
  },
  "cells": [
    {
      "cell_type": "code",
      "source": [
        "import numpy as np\n",
        "import time"
      ],
      "metadata": {
        "id": "OnQtHB5t95ln"
      },
      "execution_count": 14,
      "outputs": []
    },
    {
      "cell_type": "markdown",
      "source": [
        " Write a function that takes a 1d numpy array and computes its reverse vector (last element becomes the first).\n"
      ],
      "metadata": {
        "id": "1M5Q4Wt-9glR"
      }
    },
    {
      "cell_type": "code",
      "execution_count": 7,
      "metadata": {
        "colab": {
          "base_uri": "https://localhost:8080/"
        },
        "id": "GoZ6w3cK9d8X",
        "outputId": "736ba9af-23d6-44b5-f4a6-2a397f51448b"
      },
      "outputs": [
        {
          "output_type": "execute_result",
          "data": {
            "text/plain": [
              "array([7.3, 5.9, 2. , 0.3])"
            ]
          },
          "metadata": {},
          "execution_count": 7
        }
      ],
      "source": [
        "arr2 = np.array([0.3,2.,5.9,7.3])\n",
        "arr2[::-1]"
      ]
    },
    {
      "cell_type": "markdown",
      "source": [
        "Given the following square array, compute the product of the elements on its\n",
        "diagonal. [[1 3 8] [-1 3 0] [-3 9 2]]\n"
      ],
      "metadata": {
        "id": "5qWTf1xy9miM"
      }
    },
    {
      "cell_type": "code",
      "source": [
        "array =  [[1,3,8],[-1,3,0],[-3,9,2]]\n",
        "np.prod(np.diag(array))"
      ],
      "metadata": {
        "colab": {
          "base_uri": "https://localhost:8080/"
        },
        "id": "ZfL_1xzI93cm",
        "outputId": "767110f4-e8ec-4984-a72d-a3485c560a3e"
      },
      "execution_count": 6,
      "outputs": [
        {
          "output_type": "execute_result",
          "data": {
            "text/plain": [
              "6"
            ]
          },
          "metadata": {},
          "execution_count": 6
        }
      ]
    },
    {
      "cell_type": "markdown",
      "source": [
        "Create a random vector of size (3, 6) and find its mean value.\n"
      ],
      "metadata": {
        "id": "0nsxTGgK9ps2"
      }
    },
    {
      "cell_type": "code",
      "source": [
        "array = np.empty((3,6))\n",
        "np.mean(array)"
      ],
      "metadata": {
        "colab": {
          "base_uri": "https://localhost:8080/"
        },
        "id": "RBBbSN1Y93z6",
        "outputId": "46abef2e-5917-4eda-b99a-4120602cc823"
      },
      "execution_count": 2,
      "outputs": [
        {
          "output_type": "execute_result",
          "data": {
            "text/plain": [
              "6.2920749436773e-310"
            ]
          },
          "metadata": {},
          "execution_count": 2
        }
      ]
    },
    {
      "cell_type": "markdown",
      "source": [
        "• Given two arrays a and b, compute how many time an item of a is higher than the corresponding element of b.\n",
        "\n",
        "a: [[1 5 6 8] [2 -3 13 23] [0 -10 -9 7]]\n",
        "\n",
        "b: [[-3 0 8 1] [-20 -9 -1 32] [7 7 7 7]]\n"
      ],
      "metadata": {
        "id": "yO5GtdLQ9tTl"
      }
    },
    {
      "cell_type": "code",
      "source": [
        "a = [[1,5,6,8],[2,-3,13,23],[0,-10,-9,7]]\n",
        "b = [[-3,0,8,1],[-20,-9,-1,32],[7,7,7,7]]\n",
        "\n",
        "array_a = np.array(a)\n",
        "array_b = np.array(b)\n",
        "\n",
        "np.count_nonzero(array_a > array_b)"
      ],
      "metadata": {
        "colab": {
          "base_uri": "https://localhost:8080/"
        },
        "id": "wTyDFfaE94U6",
        "outputId": "6a043eeb-6a0b-48fd-c985-a183d84b066a"
      },
      "execution_count": 4,
      "outputs": [
        {
          "output_type": "execute_result",
          "data": {
            "text/plain": [
              "6"
            ]
          },
          "metadata": {},
          "execution_count": 4
        }
      ]
    },
    {
      "cell_type": "markdown",
      "source": [
        "Create and normalize the following matrix (use min-max normalization):\n",
        "[[0.35 -0.27 0.56] [0.15 0.65 0.42] [0.73 -0.78 -0.08]]"
      ],
      "metadata": {
        "id": "8JkfGVSP9zyE"
      }
    },
    {
      "cell_type": "code",
      "source": [
        "array = [[0.35, -0.27, 0.56],[0.15, 0.65, 0.42],[0.73, -0.78, -0.08]]\n",
        "array = np.array(array)\n",
        "\n",
        "array = (array - np.min(array)) / (np.max(array) - np.min(array))\n",
        "array"
      ],
      "metadata": {
        "colab": {
          "base_uri": "https://localhost:8080/"
        },
        "id": "oo_BkCgZ942d",
        "outputId": "cd28fbbf-21f8-4362-c899-32cdda7fd144"
      },
      "execution_count": 5,
      "outputs": [
        {
          "output_type": "execute_result",
          "data": {
            "text/plain": [
              "array([[0.74834437, 0.33774834, 0.88741722],\n",
              "       [0.61589404, 0.94701987, 0.79470199],\n",
              "       [1.        , 0.        , 0.46357616]])"
            ]
          },
          "metadata": {},
          "execution_count": 5
        }
      ]
    },
    {
      "cell_type": "markdown",
      "source": [
        "Let’s run a little benchmark! Given a matrix A ∈ RNxM and a vector b ∈ RM ,\n",
        "compute the euclidean distance between b and each row Ai.\n",
        "\n",
        "By filling in the blanks in eucl distance.py, implement this simple function twice:\n",
        "*   with vanilla Python operators,\n",
        "*   with optimized Numpy operations.\n",
        "\n",
        "Which one runs faster? Read the provided code carefully and watch out for mistakes."
      ],
      "metadata": {
        "id": "WFIiBnO0AR4N"
      }
    },
    {
      "cell_type": "code",
      "source": [
        "a = [[1,5,6,8],[2,-3,13,23],[0,-10,-9,7]]\n",
        "b = [[-3,0,8,1]]\n",
        "\n",
        "array_a = np.array(a)\n",
        "array_b = np.array(b)\n",
        "\n",
        "start_time = time.time()\n",
        "dist = np.linalg.norm(array_a - array_b, axis=1)\n",
        "print(dist)\n",
        "print(\"--- %s seconds ---\" % (time.time() - start_time))"
      ],
      "metadata": {
        "colab": {
          "base_uri": "https://localhost:8080/"
        },
        "id": "EBPjepv0ApAa",
        "outputId": "e33b7da0-042c-445a-dd07-6620d77c96a2"
      },
      "execution_count": 15,
      "outputs": [
        {
          "output_type": "stream",
          "name": "stdout",
          "text": [
            "[ 9.69535971 23.3023604  20.83266666]\n",
            "--- 0.0022382736206054688 seconds ---\n"
          ]
        }
      ]
    },
    {
      "cell_type": "code",
      "source": [
        "a = [[1,5,6,8],[2,-3,13,23],[0,-10,-9,7]]\n",
        "b = [[-3,0,8,1]]\n",
        "\n",
        "start_time = time.time()\n",
        "dist = []\n",
        "for row in a:\n",
        "  sum = 0\n",
        "  for i in range(len(row)):\n",
        "    sum += (row[i] - b[0][i]) ** 2\n",
        "  dist.append(sum ** 0.5)\n",
        "print(dist)\n",
        "print(\"--- %s seconds ---\" % (time.time() - start_time))"
      ],
      "metadata": {
        "colab": {
          "base_uri": "https://localhost:8080/"
        },
        "id": "kcwcbx8fCSL2",
        "outputId": "bdf24169-acb9-476e-b353-af068ec7248a"
      },
      "execution_count": 17,
      "outputs": [
        {
          "output_type": "stream",
          "name": "stdout",
          "text": [
            "[9.695359714832659, 23.302360395462088, 20.83266665599966]\n",
            "--- 0.0021657943725585938 seconds ---\n"
          ]
        }
      ]
    }
  ]
}